{
 "cells": [
  {
   "cell_type": "markdown",
   "metadata": {},
   "source": [
    "# Task1 into Lecture 3\n",
    "\n",
    "1. Get Input from user \"product\"\n",
    "2. print QTY\n",
    "3. if not found then print not found\n"
   ]
  },
  {
   "cell_type": "code",
   "execution_count": 2,
   "metadata": {},
   "outputs": [
    {
     "name": "stdout",
     "output_type": "stream",
     "text": [
      " please enter type of fruit jkkj\n"
     ]
    },
    {
     "data": {
      "text/plain": [
       "'not_found'"
      ]
     },
     "execution_count": 2,
     "metadata": {},
     "output_type": "execute_result"
    }
   ],
   "source": [
    "store={'orange':'5','Apple':'10','Banana':'20'}\n",
    "x=input(' please enter type of fruit ')\n",
    "store.get(x, \"not_found\")"
   ]
  },
  {
   "cell_type": "markdown",
   "metadata": {},
   "source": [
    "# Task12 into Lecture 3\n",
    "\n",
    "1. Take username from user.\n",
    "2. take password from user\n",
    "3. add username to usernames\n",
    "4. add password to passwords"
   ]
  },
  {
   "cell_type": "code",
   "execution_count": 2,
   "metadata": {},
   "outputs": [
    {
     "name": "stdout",
     "output_type": "stream",
     "text": [
      " please enter user name: fgdfg\n",
      " please enter user password: dfgdfg\n",
      "User Name is fgdfg and Password dfgdfg\n"
     ]
    }
   ],
   "source": [
    "user_name=[]\n",
    "password=[]\n",
    "\n",
    "x=input(' please enter user name: ')\n",
    "y=input(' please enter user password: ')\n",
    "\n",
    "user_name.append(x)\n",
    "password.append(y)\n",
    "\n",
    "\n",
    "print(f'User Name is {x} and Password {y}')\n",
    "\n"
   ]
  },
  {
   "cell_type": "code",
   "execution_count": null,
   "metadata": {},
   "outputs": [],
   "source": []
  }
 ],
 "metadata": {
  "kernelspec": {
   "display_name": "Python 3",
   "language": "python",
   "name": "python3"
  },
  "language_info": {
   "codemirror_mode": {
    "name": "ipython",
    "version": 3
   },
   "file_extension": ".py",
   "mimetype": "text/x-python",
   "name": "python",
   "nbconvert_exporter": "python",
   "pygments_lexer": "ipython3",
   "version": "3.7.6"
  }
 },
 "nbformat": 4,
 "nbformat_minor": 4
}
